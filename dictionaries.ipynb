{
 "cells": [
  {
   "cell_type": "markdown",
   "metadata": {},
   "source": [
    "lookup using 'tag' or 'key"
   ]
  },
  {
   "cell_type": "code",
   "execution_count": null,
   "metadata": {},
   "outputs": [],
   "source": [
    "cabinet = dict()\n",
    "cabinet['summer'] = 3 \n",
    "cabinet['fall'] = 13\n",
    "cabinet['spring'] = 75\n",
    "# summer, fall and spring are the keys\n",
    "print(cabinet['fall'])\n",
    "cabinet['fall'] = cabinet['fall'] + 2\n",
    "print(cabinet)"
   ]
  },
  {
   "cell_type": "markdown",
   "metadata": {},
   "source": [
    "dictionary can be declared use {} braces and have a list of key:value pairs"
   ]
  },
  {
   "cell_type": "code",
   "execution_count": null,
   "metadata": {},
   "outputs": [],
   "source": [
    "dict1 = {'yash' : 2, 'rahul' : 3, 'ramesh' : 4}\n",
    "dict1['ramesh'] = dict1['ramesh'] + 3\n",
    "print(dict1)"
   ]
  },
  {
   "cell_type": "markdown",
   "metadata": {},
   "source": [
    "count how many times each number appears in a sequence"
   ]
  },
  {
   "cell_type": "code",
   "execution_count": null,
   "metadata": {},
   "outputs": [],
   "source": [
    "n = [2, 4, 1, 2, 1, 6, 4, 7, 8, 6, 4]\n",
    "dict3 = dict()\n",
    "for i in n:\n",
    "    if not i in dict3:\n",
    "        dict3[i] = 1\n",
    "    else:\n",
    "        dict3[i] = dict3[i] + 1\n",
    "print(dict3)"
   ]
  },
  {
   "cell_type": "markdown",
   "metadata": {},
   "source": [
    "using get() function"
   ]
  },
  {
   "cell_type": "code",
   "execution_count": null,
   "metadata": {},
   "outputs": [],
   "source": [
    "dict4 = dict()\n",
    "for i in n:\n",
    "    dict4[i] = dict4.get(i, 0) + 1\n",
    "print(dict4)"
   ]
  },
  {
   "cell_type": "markdown",
   "metadata": {},
   "source": [
    "COUNTING USING DICTIONARIES"
   ]
  },
  {
   "cell_type": "code",
   "execution_count": null,
   "metadata": {},
   "outputs": [],
   "source": [
    "text = input('Enter the text: ')\n",
    "words = text.split()\n",
    "dict5 = dict()\n",
    "for i in words:\n",
    "    dict5[i] = dict5.get(i, 0) + 1\n",
    "print(dict5)"
   ]
  },
  {
   "cell_type": "markdown",
   "metadata": {},
   "source": [
    "looping through dictionaries"
   ]
  },
  {
   "cell_type": "code",
   "execution_count": null,
   "metadata": {},
   "outputs": [],
   "source": [
    "for j in dict5:\n",
    "    print(j, dict5[j]) "
   ]
  },
  {
   "cell_type": "markdown",
   "metadata": {},
   "source": [
    "mapping dictionaries onto lists"
   ]
  },
  {
   "cell_type": "code",
   "execution_count": null,
   "metadata": {},
   "outputs": [],
   "source": [
    "dict6 = {'jan' : 31, 'feb' : 28, 'apr' : 30}\n",
    "print(list(dict6)) # prints out the keys in a list\n",
    "print(list(dict6.keys())) # prints keys, again\n",
    "print(list(dict6.values())) # print values\n",
    "print(list(dict6.items())) # prints both in a tuple\n",
    "for i, j in sorted(dict6.items()): # sorted in key order\n",
    "    print(i, j) # loops through the items tuple using two iteration variables"
   ]
  },
  {
   "cell_type": "code",
   "execution_count": null,
   "metadata": {},
   "outputs": [],
   "source": [
    "lst = list()\n",
    "for k, l in dict6.items():\n",
    "    lst.append((l, k))\n",
    "print(lst)\n",
    "lst = sorted(lst)\n",
    "print(lst)"
   ]
  }
 ],
 "metadata": {
  "language_info": {
   "name": "python"
  }
 },
 "nbformat": 4,
 "nbformat_minor": 2
}
