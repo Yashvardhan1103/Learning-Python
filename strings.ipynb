{
 "cells": [
  {
   "cell_type": "markdown",
   "metadata": {},
   "source": [
    "finding a character in a string using index (use square brackets)"
   ]
  },
  {
   "cell_type": "code",
   "execution_count": 1,
   "metadata": {},
   "outputs": [
    {
     "name": "stdout",
     "output_type": "stream",
     "text": [
      "a\n",
      "n\n",
      "Length of string: 6\n"
     ]
    }
   ],
   "source": [
    "fruit = 'banana'\n",
    "letter = fruit[1]\n",
    "print(letter)\n",
    "x = 3\n",
    "L = fruit[x-1]\n",
    "print(L)\n",
    "#index value must be an integer, can be a computed expression\n",
    "print('Length of string:', len(fruit)) #len() is an inbuilt function"
   ]
  },
  {
   "cell_type": "markdown",
   "metadata": {},
   "source": [
    "looping through a string - while"
   ]
  },
  {
   "cell_type": "code",
   "execution_count": 2,
   "metadata": {},
   "outputs": [
    {
     "name": "stdout",
     "output_type": "stream",
     "text": [
      "0 b\n",
      "1 a\n",
      "2 n\n",
      "3 a\n",
      "4 n\n",
      "5 a\n"
     ]
    }
   ],
   "source": [
    "fruit = 'banana'\n",
    "index = 0\n",
    "while index < len(fruit):\n",
    "    letter = fruit[index]\n",
    "    print (index, letter)\n",
    "    index = index + 1"
   ]
  },
  {
   "cell_type": "markdown",
   "metadata": {},
   "source": [
    "looping through a string - for"
   ]
  },
  {
   "cell_type": "code",
   "execution_count": 3,
   "metadata": {},
   "outputs": [
    {
     "name": "stdout",
     "output_type": "stream",
     "text": [
      "b\n",
      "a\n",
      "n\n",
      "a\n",
      "n\n",
      "a\n"
     ]
    }
   ],
   "source": [
    "fruit = 'banana'\n",
    "for letter in fruit:\n",
    "    print(letter)\n",
    "#for loop will automatically traverse every element in the string"
   ]
  },
  {
   "cell_type": "markdown",
   "metadata": {},
   "source": [
    "no of A's in a word"
   ]
  },
  {
   "cell_type": "code",
   "execution_count": 4,
   "metadata": {},
   "outputs": [],
   "source": [
    "fruit = input('Enter the String to be scanned:')\n",
    "index = 0\n",
    "x = 0\n",
    "while index < len(fruit):\n",
    "    letter = fruit[index]\n",
    "    if (letter == 'a'):\n",
    "        x = x + 1\n",
    "    index = index + 1\n",
    "print('number of As (while):', x)\n",
    "#can also be done using for loop\n",
    "count = 0\n",
    "for itervar in fruit:\n",
    "    if(itervar == 'a'):\n",
    "        count = count + 1\n",
    "print ('Number of As (for):', count)\n",
    "#for (iteration variable) in (string sequence), the variable will iterate through the sequence of characters, and every statement in the loop will be executed once for each character"
   ]
  },
  {
   "cell_type": "markdown",
   "metadata": {},
   "source": [
    "slicing strings"
   ]
  },
  {
   "cell_type": "code",
   "execution_count": null,
   "metadata": {},
   "outputs": [],
   "source": [
    "string = 'Monty Python'\n",
    "print(string[0:4])\n",
    "print(string[3:9])\n",
    "#does not include the second index\n",
    "print(string[6:20])\n",
    "#if the second index goes beyond the string, it stops at the end\n",
    "print(string[:3])\n",
    "print(string[8:])\n",
    "print(string[:])\n",
    "#more possible ways to slice"
   ]
  },
  {
   "cell_type": "markdown",
   "metadata": {},
   "source": [
    "string manipulation - concatenation"
   ]
  },
  {
   "cell_type": "code",
   "execution_count": null,
   "metadata": {},
   "outputs": [],
   "source": [
    "a = 'Hello'\n",
    "b = a + 'There'\n",
    "c = a + ' ' + 'There'\n",
    "print (a)\n",
    "print (b)\n",
    "print (c)"
   ]
  },
  {
   "cell_type": "markdown",
   "metadata": {},
   "source": [
    "using in as a logical operator"
   ]
  },
  {
   "cell_type": "code",
   "execution_count": null,
   "metadata": {},
   "outputs": [],
   "source": [
    "fruit = 'apple'\n",
    "if ('b' in fruit):\n",
    "    print('Found it!')\n",
    "else:\n",
    "    print('Not found!')"
   ]
  },
  {
   "cell_type": "markdown",
   "metadata": {},
   "source": [
    "lower()"
   ]
  },
  {
   "cell_type": "code",
   "execution_count": null,
   "metadata": {},
   "outputs": [],
   "source": [
    "string = 'HELLO'\n",
    "lowercase = string.lower()\n",
    "print(string)\n",
    "print(lowercase)\n",
    "print('YASHVARDHAN'.lower())"
   ]
  },
  {
   "cell_type": "markdown",
   "metadata": {},
   "source": [
    "capitalize()"
   ]
  },
  {
   "cell_type": "code",
   "execution_count": null,
   "metadata": {},
   "outputs": [],
   "source": [
    "print(lowercase.capitalize())"
   ]
  },
  {
   "cell_type": "markdown",
   "metadata": {},
   "source": [
    "find()"
   ]
  },
  {
   "cell_type": "code",
   "execution_count": null,
   "metadata": {},
   "outputs": [],
   "source": [
    "pos = string.find('O')\n",
    "print(pos) \n",
    "pos = string.find('z')\n",
    "print(pos) #not found -> -1\n",
    "string2 = 'banana'\n",
    "print(string2.find('na')) #third position -> 2"
   ]
  },
  {
   "cell_type": "markdown",
   "metadata": {},
   "source": [
    "search and replace [replace()]"
   ]
  },
  {
   "cell_type": "code",
   "execution_count": null,
   "metadata": {},
   "outputs": [],
   "source": [
    "string3 = 'Hello Bob. How are you Bob?'\n",
    "newstring3 = string3.replace('Bob','Yash') #replaces all instances of search string with replacement string\n",
    "print(newstring3)\n",
    "print(newstring3.replace('Y','J')) #replaces the letter Y with J wherever found"
   ]
  },
  {
   "cell_type": "code",
   "execution_count": null,
   "metadata": {},
   "outputs": [],
   "source": [
    "#stripping whitespace : lstrip()[left], rstrip()[right], strip()[both left and right]."
   ]
  },
  {
   "cell_type": "markdown",
   "metadata": {},
   "source": [
    "search prefix"
   ]
  },
  {
   "cell_type": "code",
   "execution_count": null,
   "metadata": {},
   "outputs": [],
   "source": [
    "string4 = 'Please come in!'\n",
    "if (string4.startswith('Please')): #returns true\n",
    "    print('Polite')\n",
    "else:\n",
    "    print('Impolite')"
   ]
  },
  {
   "cell_type": "markdown",
   "metadata": {},
   "source": [
    "example"
   ]
  },
  {
   "cell_type": "code",
   "execution_count": null,
   "metadata": {},
   "outputs": [],
   "source": [
    "email = 'from: yashvardhan.sh@gmail.com date: 21/3/21'\n",
    "atpos = email.find('@')\n",
    "print(atpos)\n",
    "sppos = email.find(' ', atpos) #start scanning from atpos and look for 'space'\n",
    "print(sppos)\n",
    "domain = email[atpos+1 : sppos]\n",
    "print('Email service provider:', domain)"
   ]
  }
 ],
 "metadata": {
  "kernelspec": {
   "display_name": "Python 3",
   "language": "python",
   "name": "python3"
  },
  "language_info": {
   "codemirror_mode": {
    "name": "ipython",
    "version": 3
   },
   "file_extension": ".py",
   "mimetype": "text/x-python",
   "name": "python",
   "nbconvert_exporter": "python",
   "pygments_lexer": "ipython3",
   "version": "3.12.4"
  }
 },
 "nbformat": 4,
 "nbformat_minor": 2
}
