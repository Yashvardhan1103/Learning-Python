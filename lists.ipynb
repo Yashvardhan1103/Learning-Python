{
 "cells": [
  {
   "cell_type": "markdown",
   "metadata": {},
   "source": [
    "LIST - a collection of items that can be stored in a single variable"
   ]
  },
  {
   "cell_type": "code",
   "execution_count": null,
   "metadata": {},
   "outputs": [],
   "source": [
    "list1 = ['Yash', 'Vardhan', 'Sharma'] #structure of a list\n",
    "print(list1)"
   ]
  },
  {
   "cell_type": "code",
   "execution_count": null,
   "metadata": {},
   "outputs": [],
   "source": [
    "list2 = ['Yash', 25, 98.6] #data types inside a list can be different\n",
    "print(list2)\n",
    "list3 = [5, [6, 7], 7] #an element in a list can be anything, even another list\n",
    "print(list3)\n",
    "list4 = [] #empty list"
   ]
  },
  {
   "cell_type": "markdown",
   "metadata": {},
   "source": [
    "looping in a list"
   ]
  },
  {
   "cell_type": "code",
   "execution_count": null,
   "metadata": {},
   "outputs": [],
   "source": [
    "list5 = ['Yash', 'Rahul', 'Raj']\n",
    "count = 0\n",
    "for i in list5: #for loop traverses each element of the list\n",
    "    count = count + 1\n",
    "    print('Reg no. :', count)\n",
    "    print('Name:', i)"
   ]
  },
  {
   "cell_type": "markdown",
   "metadata": {},
   "source": [
    "looking inside lists (using index number)"
   ]
  },
  {
   "cell_type": "code",
   "execution_count": null,
   "metadata": {},
   "outputs": [],
   "source": [
    "index = 2\n",
    "print('element at index 2:', list5[index])"
   ]
  },
  {
   "cell_type": "markdown",
   "metadata": {},
   "source": [
    "unlike strings, lists are mutable ie. the value of any element in a list can be changed"
   ]
  },
  {
   "cell_type": "code",
   "execution_count": null,
   "metadata": {},
   "outputs": [],
   "source": [
    "list5[2] = 'Rohan'\n",
    "print(list5)\n",
    "#the element at index two was changed\n",
    "list6 = [2, 14, 26, 41, 63]\n",
    "print(list6)\n",
    "list6[2] = 28\n",
    "print(list6)\n",
    "#26 was changed to 28\n",
    "length = len(list6)\n",
    "print(length) #number of eleents in list6"
   ]
  },
  {
   "cell_type": "markdown",
   "metadata": {},
   "source": [
    "range function"
   ]
  },
  {
   "cell_type": "code",
   "execution_count": null,
   "metadata": {},
   "outputs": [],
   "source": [
    "print(list(range(5))) #returns a list of numbers that range from zero to one less than that parameter (5 in this case)\n",
    "print(list(range(length)))"
   ]
  },
  {
   "cell_type": "code",
   "execution_count": null,
   "metadata": {},
   "outputs": [],
   "source": [
    "for x in list5: #looping through the list normally\n",
    "    print('Happy New Year', x)\n",
    "for i in range(len(list5)): #looping through the list using range function (counted loop where i corresponds to the position of the element)\n",
    "    y = list5[i]\n",
    "    print('Merry Christmas', y)"
   ]
  },
  {
   "cell_type": "markdown",
   "metadata": {},
   "source": [
    "concatenation"
   ]
  },
  {
   "cell_type": "code",
   "execution_count": null,
   "metadata": {},
   "outputs": [],
   "source": [
    "a = [1, 2, 3]\n",
    "b = [4, 5, 6]\n",
    "c = a + b\n",
    "print(c) #concatenates both the strings"
   ]
  },
  {
   "cell_type": "markdown",
   "metadata": {},
   "source": [
    "slicing"
   ]
  },
  {
   "cell_type": "code",
   "execution_count": null,
   "metadata": {},
   "outputs": [],
   "source": [
    "print(c[1:3])\n",
    "print(c[:4])\n",
    "print(c[2:])\n",
    "print(c[:])"
   ]
  },
  {
   "cell_type": "markdown",
   "metadata": {},
   "source": [
    "building a list from scratch"
   ]
  },
  {
   "cell_type": "code",
   "execution_count": null,
   "metadata": {},
   "outputs": [],
   "source": [
    "newlist = list()\n",
    "newlist.append(12)\n",
    "print(newlist)\n",
    "newlist.append('hello')\n",
    "newlist.append(98.6)\n",
    "print(newlist)\n",
    "#append() function only takes one element at a time as argument"
   ]
  },
  {
   "cell_type": "markdown",
   "metadata": {},
   "source": [
    "is something in a list? (in / not in => returns True/False)"
   ]
  },
  {
   "cell_type": "code",
   "execution_count": null,
   "metadata": {},
   "outputs": [],
   "source": [
    "if(13 in newlist): \n",
    "    print('13 is there')\n",
    "else:\n",
    "    print('Not there')"
   ]
  },
  {
   "cell_type": "markdown",
   "metadata": {},
   "source": [
    "sorting"
   ]
  },
  {
   "cell_type": "code",
   "execution_count": null,
   "metadata": {},
   "outputs": [],
   "source": [
    "list7 = [3, 41, 12, 9, 74, 15]\n",
    "list7.sort()\n",
    "print(list7)"
   ]
  },
  {
   "cell_type": "markdown",
   "metadata": {},
   "source": [
    "Functions that take list as parameter"
   ]
  },
  {
   "cell_type": "code",
   "execution_count": null,
   "metadata": {},
   "outputs": [],
   "source": [
    "print(len(list7))\n",
    "print(max(list7))\n",
    "print(min(list7))\n",
    "print(sum(list7))\n",
    "print(sum(list7) / len(list7))"
   ]
  },
  {
   "cell_type": "markdown",
   "metadata": {},
   "source": [
    "Sum of elements using list"
   ]
  },
  {
   "cell_type": "code",
   "execution_count": null,
   "metadata": {},
   "outputs": [],
   "source": [
    "numlist = list()\n",
    "while True:\n",
    "    num = input('Enter the number: ')\n",
    "    if (num == 'done'):\n",
    "        break\n",
    "    n = float(num)\n",
    "    numlist.append(n)\n",
    "total = sum(numlist)\n",
    "print('Sum:', total)"
   ]
  },
  {
   "cell_type": "markdown",
   "metadata": {},
   "source": [
    "STRINGS AND LISTS"
   ]
  },
  {
   "cell_type": "code",
   "execution_count": null,
   "metadata": {},
   "outputs": [],
   "source": [
    "string = 'Happy New Year Yashvardhan'\n",
    "list8 = string.split() #creates a list of elements in a string separated by ' '\n",
    "print(list8)\n",
    "print(len(list8)) #number of words in string\n",
    "print(list8[3])\n",
    "for i in list8:\n",
    "    print(i) #lists the words in a string using for loop\n",
    "#split, by default, works on whitespaces but can take other parameters\n",
    "string2 = 'first;second;third'\n",
    "list9 = string2.split(';') #splits the string based on position on ';'\n",
    "for i2 in list9:\n",
    "    print(i2)"
   ]
  },
  {
   "cell_type": "markdown",
   "metadata": {},
   "source": [
    "example - extracting email domain timestamp from sample3.txt"
   ]
  },
  {
   "cell_type": "code",
   "execution_count": null,
   "metadata": {},
   "outputs": [],
   "source": [
    "fhand = open('sample3.txt')\n",
    "for i3 in fhand:\n",
    "    i3 = i3.rstrip()\n",
    "    if not ('From ' in i3):\n",
    "        continue\n",
    "    list10 = i3.split()\n",
    "    print(list10[5])\n",
    "    email = list10[1]\n",
    "    domain = email.split('@')\n",
    "    print(domain[1])"
   ]
  },
  {
   "cell_type": "markdown",
   "metadata": {},
   "source": [
    "sorted() can also be used to sort a list"
   ]
  },
  {
   "cell_type": "code",
   "execution_count": null,
   "metadata": {},
   "outputs": [],
   "source": [
    "lst = [2, 5, 3, 67, 23, 89, 12, 45, 37, 85, 23, 76, 10, 2, 31]\n",
    "print(sorted(lst))"
   ]
  }
 ],
 "metadata": {
  "language_info": {
   "name": "python"
  }
 },
 "nbformat": 4,
 "nbformat_minor": 2
}
