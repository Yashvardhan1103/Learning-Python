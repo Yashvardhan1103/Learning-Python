{
 "cells": [
  {
   "cell_type": "markdown",
   "metadata": {},
   "source": [
    "If and Else"
   ]
  },
  {
   "cell_type": "code",
   "execution_count": null,
   "metadata": {},
   "outputs": [],
   "source": [
    "x=4\n",
    "if x>2:\n",
    "    print('bigger')\n",
    "else:\n",
    "    print('smaller')\n",
    "print('all done')"
   ]
  },
  {
   "cell_type": "markdown",
   "metadata": {},
   "source": [
    "Elif (only one is performed, alw executed in order)"
   ]
  },
  {
   "cell_type": "code",
   "execution_count": null,
   "metadata": {},
   "outputs": [],
   "source": [
    "x=20\n",
    "if x<2:\n",
    "    print('small')\n",
    "elif x<10:\n",
    "    print('medium')\n",
    "else:\n",
    "    print('large')\n",
    "print('all done')"
   ]
  },
  {
   "cell_type": "markdown",
   "metadata": {},
   "source": [
    "try, except - avoids traceback (if traceback occurs in try clause, except clause is executed)"
   ]
  },
  {
   "cell_type": "code",
   "execution_count": 1,
   "metadata": {},
   "outputs": [
    {
     "name": "stdout",
     "output_type": "stream",
     "text": [
      "First -1\n",
      "Second 123\n"
     ]
    }
   ],
   "source": [
    "astr='Hello Bob'\n",
    "try:\n",
    "    istr=int(astr)\n",
    "except:\n",
    "    istr=-1\n",
    "print ('First', istr)\n",
    "\n",
    "astr='123'\n",
    "try:\n",
    "    istr=int(astr)\n",
    "except:\n",
    "    istr=-1\n",
    "print('Second', istr)"
   ]
  },
  {
   "cell_type": "markdown",
   "metadata": {},
   "source": [
    "Practical Example"
   ]
  },
  {
   "cell_type": "code",
   "execution_count": null,
   "metadata": {},
   "outputs": [],
   "source": [
    "number = input(\"enter a number:\")\n",
    "try:\n",
    "    ival = int(number)\n",
    "except:\n",
    "    ival = -1\n",
    "\n",
    "if ival>0:\n",
    "    print('nice work')\n",
    "    print(number)\n",
    "    print(ival)\n",
    "else:\n",
    "    print('not a number')\n",
    "    print()"
   ]
  }
 ],
 "metadata": {
  "kernelspec": {
   "display_name": "Python 3",
   "language": "python",
   "name": "python3"
  },
  "language_info": {
   "codemirror_mode": {
    "name": "ipython",
    "version": 3
   },
   "file_extension": ".py",
   "mimetype": "text/x-python",
   "name": "python",
   "nbconvert_exporter": "python",
   "pygments_lexer": "ipython3",
   "version": "3.12.4"
  }
 },
 "nbformat": 4,
 "nbformat_minor": 2
}
