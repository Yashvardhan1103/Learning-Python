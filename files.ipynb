{
 "cells": [
  {
   "cell_type": "markdown",
   "metadata": {},
   "source": [
    "open() function [returns a file handle - a variable used to perform operations on the file]"
   ]
  },
  {
   "cell_type": "code",
   "execution_count": null,
   "metadata": {},
   "outputs": [],
   "source": [
    "handle = open('sample3.txt')\n",
    "print(handle)\n",
    "x = 0\n",
    "for n in handle: #traverses each new line of the file once\n",
    "    x = x + 1\n",
    "print('No. of lines in file:', x)"
   ]
  },
  {
   "cell_type": "markdown",
   "metadata": {},
   "source": [
    "read() function"
   ]
  },
  {
   "cell_type": "code",
   "execution_count": null,
   "metadata": {},
   "outputs": [],
   "source": [
    "fhand = open('sample3.txt')\n",
    "inp = fhand.read() #reads the entire file as one string\n",
    "print(len(inp)) #no of characters in txt file\n",
    "print(inp[:5]) #slicing the text file"
   ]
  },
  {
   "cell_type": "markdown",
   "metadata": {},
   "source": [
    "print all lines that start with letter Q"
   ]
  },
  {
   "cell_type": "code",
   "execution_count": null,
   "metadata": {},
   "outputs": [],
   "source": [
    "fhand1 = open('sample3.txt')\n",
    "for line in fhand1:\n",
    "    line = line.rstrip()\n",
    "    if (line.startswith('Q')):\n",
    "        print(line)"
   ]
  },
  {
   "cell_type": "markdown",
   "metadata": {},
   "source": [
    "looking for a specific keyword and only printing lines that contain i"
   ]
  },
  {
   "cell_type": "code",
   "execution_count": null,
   "metadata": {},
   "outputs": [],
   "source": [
    "fhand2 = open('sample3.txt')\n",
    "x = 0\n",
    "for line in fhand2:\n",
    "    line = line.strip()\n",
    "    if 'GMAIL' in line:\n",
    "        print(line)\n",
    "        x = x + 1\n",
    "print(\"GMAIL Line Count:\", x)"
   ]
  }
 ],
 "metadata": {
  "language_info": {
   "name": "python"
  }
 },
 "nbformat": 4,
 "nbformat_minor": 2
}
