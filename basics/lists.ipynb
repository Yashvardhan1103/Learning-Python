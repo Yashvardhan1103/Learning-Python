{
 "cells": [
  {
   "cell_type": "markdown",
   "metadata": {},
   "source": [
    "LIST - a collection of items that can be stored in a single variable"
   ]
  },
  {
   "cell_type": "code",
   "execution_count": 1,
   "metadata": {},
   "outputs": [
    {
     "name": "stdout",
     "output_type": "stream",
     "text": [
      "['Yash', 'Vardhan', 'Sharma']\n"
     ]
    }
   ],
   "source": [
    "list1 = ['Yash', 'Vardhan', 'Sharma'] #structure of a list\n",
    "print(list1)"
   ]
  },
  {
   "cell_type": "code",
   "execution_count": 2,
   "metadata": {},
   "outputs": [
    {
     "name": "stdout",
     "output_type": "stream",
     "text": [
      "['Yash', 25, 98.6]\n",
      "[5, [6, 7], 7]\n"
     ]
    }
   ],
   "source": [
    "list2 = ['Yash', 25, 98.6] #data types inside a list can be different\n",
    "print(list2)\n",
    "list3 = [5, [6, 7], 7] #an element in a list can be anything, even another list\n",
    "print(list3)\n",
    "list4 = [] #empty list"
   ]
  },
  {
   "cell_type": "markdown",
   "metadata": {},
   "source": [
    "looping in a list"
   ]
  },
  {
   "cell_type": "code",
   "execution_count": 3,
   "metadata": {},
   "outputs": [
    {
     "name": "stdout",
     "output_type": "stream",
     "text": [
      "Reg no. : 1\n",
      "Name: Yash\n",
      "Reg no. : 2\n",
      "Name: Rahul\n",
      "Reg no. : 3\n",
      "Name: Raj\n"
     ]
    }
   ],
   "source": [
    "list5 = ['Yash', 'Rahul', 'Raj']\n",
    "count = 0\n",
    "for i in list5: #for loop traverses each element of the list\n",
    "    count = count + 1\n",
    "    print('Reg no. :', count)\n",
    "    print('Name:', i)"
   ]
  },
  {
   "cell_type": "markdown",
   "metadata": {},
   "source": [
    "looking inside lists (using index number)"
   ]
  },
  {
   "cell_type": "code",
   "execution_count": 4,
   "metadata": {},
   "outputs": [
    {
     "name": "stdout",
     "output_type": "stream",
     "text": [
      "element at index 2: Raj\n"
     ]
    }
   ],
   "source": [
    "index = 2\n",
    "print('element at index 2:', list5[index])"
   ]
  },
  {
   "cell_type": "markdown",
   "metadata": {},
   "source": [
    "unlike strings, lists are mutable ie. the value of any element in a list can be changed"
   ]
  },
  {
   "cell_type": "code",
   "execution_count": 5,
   "metadata": {},
   "outputs": [
    {
     "name": "stdout",
     "output_type": "stream",
     "text": [
      "['Yash', 'Rahul', 'Rohan']\n",
      "[2, 14, 26, 41, 63]\n",
      "[2, 14, 28, 41, 63]\n",
      "5\n"
     ]
    }
   ],
   "source": [
    "list5[2] = 'Rohan'\n",
    "print(list5)\n",
    "#the element at index two was changed\n",
    "list6 = [2, 14, 26, 41, 63]\n",
    "print(list6)\n",
    "list6[2] = 28\n",
    "print(list6)\n",
    "#26 was changed to 28\n",
    "length = len(list6)\n",
    "print(length) #number of eleents in list6"
   ]
  },
  {
   "cell_type": "markdown",
   "metadata": {},
   "source": [
    "range function"
   ]
  },
  {
   "cell_type": "code",
   "execution_count": 6,
   "metadata": {},
   "outputs": [
    {
     "name": "stdout",
     "output_type": "stream",
     "text": [
      "[0, 1, 2, 3, 4]\n",
      "[0, 1, 2, 3, 4]\n"
     ]
    }
   ],
   "source": [
    "print(list(range(5))) #returns a list of numbers that range from zero to one less than that parameter (5 in this case)\n",
    "print(list(range(length)))"
   ]
  },
  {
   "cell_type": "code",
   "execution_count": 7,
   "metadata": {},
   "outputs": [
    {
     "name": "stdout",
     "output_type": "stream",
     "text": [
      "Happy New Year Yash\n",
      "Happy New Year Rahul\n",
      "Happy New Year Rohan\n",
      "Merry Christmas Yash\n",
      "Merry Christmas Rahul\n",
      "Merry Christmas Rohan\n"
     ]
    }
   ],
   "source": [
    "for x in list5: #looping through the list normally\n",
    "    print('Happy New Year', x)\n",
    "for i in range(len(list5)): #looping through the list using range function (counted loop where i corresponds to the position of the element)\n",
    "    y = list5[i]\n",
    "    print('Merry Christmas', y)"
   ]
  },
  {
   "cell_type": "markdown",
   "metadata": {},
   "source": [
    "concatenation"
   ]
  },
  {
   "cell_type": "code",
   "execution_count": 8,
   "metadata": {},
   "outputs": [
    {
     "name": "stdout",
     "output_type": "stream",
     "text": [
      "[1, 2, 3, 4, 5, 6]\n"
     ]
    }
   ],
   "source": [
    "a = [1, 2, 3]\n",
    "b = [4, 5, 6]\n",
    "c = a + b\n",
    "print(c) #concatenates both the strings"
   ]
  },
  {
   "cell_type": "markdown",
   "metadata": {},
   "source": [
    "slicing"
   ]
  },
  {
   "cell_type": "code",
   "execution_count": 9,
   "metadata": {},
   "outputs": [
    {
     "name": "stdout",
     "output_type": "stream",
     "text": [
      "[2, 3]\n",
      "[1, 2, 3, 4]\n",
      "[3, 4, 5, 6]\n",
      "[1, 2, 3, 4, 5, 6]\n"
     ]
    }
   ],
   "source": [
    "print(c[1:3])\n",
    "print(c[:4])\n",
    "print(c[2:])\n",
    "print(c[:])"
   ]
  },
  {
   "cell_type": "markdown",
   "metadata": {},
   "source": [
    "building a list from scratch"
   ]
  },
  {
   "cell_type": "code",
   "execution_count": 10,
   "metadata": {},
   "outputs": [
    {
     "name": "stdout",
     "output_type": "stream",
     "text": [
      "[12]\n",
      "[12, 'hello', 98.6]\n"
     ]
    }
   ],
   "source": [
    "newlist = list()\n",
    "newlist.append(12)\n",
    "print(newlist)\n",
    "newlist.append('hello')\n",
    "newlist.append(98.6)\n",
    "print(newlist)\n",
    "#append() function only takes one element at a time as argument"
   ]
  },
  {
   "cell_type": "markdown",
   "metadata": {},
   "source": [
    "is something in a list? (in / not in => returns True/False)"
   ]
  },
  {
   "cell_type": "code",
   "execution_count": 11,
   "metadata": {},
   "outputs": [
    {
     "name": "stdout",
     "output_type": "stream",
     "text": [
      "Not there\n"
     ]
    }
   ],
   "source": [
    "if(13 in newlist): \n",
    "    print('13 is there')\n",
    "else:\n",
    "    print('Not there')"
   ]
  },
  {
   "cell_type": "markdown",
   "metadata": {},
   "source": [
    "sorting"
   ]
  },
  {
   "cell_type": "code",
   "execution_count": 12,
   "metadata": {},
   "outputs": [
    {
     "name": "stdout",
     "output_type": "stream",
     "text": [
      "[3, 9, 12, 15, 41, 74]\n"
     ]
    }
   ],
   "source": [
    "list7 = [3, 41, 12, 9, 74, 15]\n",
    "list7.sort()\n",
    "print(list7)"
   ]
  },
  {
   "cell_type": "markdown",
   "metadata": {},
   "source": [
    "Functions that take list as parameter"
   ]
  },
  {
   "cell_type": "code",
   "execution_count": 13,
   "metadata": {},
   "outputs": [
    {
     "name": "stdout",
     "output_type": "stream",
     "text": [
      "6\n",
      "74\n",
      "3\n",
      "154\n",
      "25.666666666666668\n"
     ]
    }
   ],
   "source": [
    "print(len(list7))\n",
    "print(max(list7))\n",
    "print(min(list7))\n",
    "print(sum(list7))\n",
    "print(sum(list7) / len(list7))"
   ]
  },
  {
   "cell_type": "markdown",
   "metadata": {},
   "source": [
    "Sum of elements using list"
   ]
  },
  {
   "cell_type": "code",
   "execution_count": 14,
   "metadata": {},
   "outputs": [
    {
     "ename": "ValueError",
     "evalue": "could not convert string to float: 'End'",
     "output_type": "error",
     "traceback": [
      "\u001b[0;31m---------------------------------------------------------------------------\u001b[0m",
      "\u001b[0;31mValueError\u001b[0m                                Traceback (most recent call last)",
      "Cell \u001b[0;32mIn[14], line 6\u001b[0m\n\u001b[1;32m      4\u001b[0m     \u001b[38;5;28;01mif\u001b[39;00m (num \u001b[38;5;241m==\u001b[39m \u001b[38;5;124m'\u001b[39m\u001b[38;5;124mdone\u001b[39m\u001b[38;5;124m'\u001b[39m):\n\u001b[1;32m      5\u001b[0m         \u001b[38;5;28;01mbreak\u001b[39;00m\n\u001b[0;32m----> 6\u001b[0m     n \u001b[38;5;241m=\u001b[39m \u001b[38;5;28mfloat\u001b[39m(num)\n\u001b[1;32m      7\u001b[0m     numlist\u001b[38;5;241m.\u001b[39mappend(n)\n\u001b[1;32m      8\u001b[0m total \u001b[38;5;241m=\u001b[39m \u001b[38;5;28msum\u001b[39m(numlist)\n",
      "\u001b[0;31mValueError\u001b[0m: could not convert string to float: 'End'"
     ]
    }
   ],
   "source": [
    "numlist = list()\n",
    "while True:\n",
    "    num = input('Enter the number: ')\n",
    "    if (num == 'done'):\n",
    "        break\n",
    "    n = float(num)\n",
    "    numlist.append(n)\n",
    "total = sum(numlist)\n",
    "print('Sum:', total)"
   ]
  },
  {
   "cell_type": "markdown",
   "metadata": {},
   "source": [
    "STRINGS AND LISTS"
   ]
  },
  {
   "cell_type": "code",
   "execution_count": null,
   "metadata": {},
   "outputs": [],
   "source": [
    "string = 'Happy New Year Yashvardhan'\n",
    "list8 = string.split() #creates a list of elements in a string separated by ' '\n",
    "print(list8)\n",
    "print(len(list8)) #number of words in string\n",
    "print(list8[3])\n",
    "for i in list8:\n",
    "    print(i) #lists the words in a string using for loop\n",
    "#split, by default, works on whitespaces but can take other parameters\n",
    "string2 = 'first;second;third'\n",
    "list9 = string2.split(';') #splits the string based on position on ';'\n",
    "for i2 in list9:\n",
    "    print(i2)"
   ]
  },
  {
   "cell_type": "markdown",
   "metadata": {},
   "source": [
    "example - extracting email domain timestamp from sample3.txt"
   ]
  },
  {
   "cell_type": "code",
   "execution_count": null,
   "metadata": {},
   "outputs": [],
   "source": [
    "fhand = open('sample3.txt')\n",
    "for i3 in fhand:\n",
    "    i3 = i3.rstrip()\n",
    "    if not ('From ' in i3):\n",
    "        continue\n",
    "    list10 = i3.split()\n",
    "    print(list10[5])\n",
    "    email = list10[1]\n",
    "    domain = email.split('@')\n",
    "    print(domain[1])"
   ]
  },
  {
   "cell_type": "markdown",
   "metadata": {},
   "source": [
    "sorted() can also be used to sort a list"
   ]
  },
  {
   "cell_type": "code",
   "execution_count": null,
   "metadata": {},
   "outputs": [],
   "source": [
    "lst = [2, 5, 3, 67, 23, 89, 12, 45, 37, 85, 23, 76, 10, 2, 31]\n",
    "print(sorted(lst))"
   ]
  }
 ],
 "metadata": {
  "kernelspec": {
   "display_name": "base",
   "language": "python",
   "name": "python3"
  },
  "language_info": {
   "codemirror_mode": {
    "name": "ipython",
    "version": 3
   },
   "file_extension": ".py",
   "mimetype": "text/x-python",
   "name": "python",
   "nbconvert_exporter": "python",
   "pygments_lexer": "ipython3",
   "version": "3.12.4"
  }
 },
 "nbformat": 4,
 "nbformat_minor": 2
}
