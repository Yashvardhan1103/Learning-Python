{
 "cells": [
  {
   "cell_type": "markdown",
   "metadata": {},
   "source": [
    "function: store and reuse"
   ]
  },
  {
   "cell_type": "code",
   "execution_count": 1,
   "metadata": {},
   "outputs": [],
   "source": [
    "def thing(): #this is a function without parameters\n",
    "    print('hello')\n",
    "#no output here, only defining the fuction (functions need to be invoked)"
   ]
  },
  {
   "cell_type": "markdown",
   "metadata": {},
   "source": [
    "function for addition (function with parameters)"
   ]
  },
  {
   "cell_type": "code",
   "execution_count": 2,
   "metadata": {},
   "outputs": [
    {
     "name": "stdout",
     "output_type": "stream",
     "text": [
      "6\n"
     ]
    }
   ],
   "source": [
    "def add(x,y):\n",
    "    ans = x+y\n",
    "    print(ans)\n",
    "\n",
    "sn1=input(\"enter first no\")\n",
    "in1=int(sn1)\n",
    "sn2=input(\"enter second number\")\n",
    "in2=int(sn2)\n",
    "add(in1,in2)"
   ]
  },
  {
   "cell_type": "markdown",
   "metadata": {},
   "source": [
    "example"
   ]
  },
  {
   "cell_type": "code",
   "execution_count": 3,
   "metadata": {},
   "outputs": [
    {
     "name": "stdout",
     "output_type": "stream",
     "text": [
      "hola\n",
      "bonjour\n",
      "hello\n"
     ]
    }
   ],
   "source": [
    "def greet(lang):\n",
    "    if (lang=='es'):\n",
    "        print('hola')\n",
    "    elif (lang=='fr'):\n",
    "        print('bonjour')\n",
    "    else:\n",
    "        print('hello')\n",
    "\n",
    "greet('es')\n",
    "greet('fr')\n",
    "greet('en')"
   ]
  },
  {
   "cell_type": "markdown",
   "metadata": {},
   "source": [
    "return statement (ends function)"
   ]
  },
  {
   "cell_type": "code",
   "execution_count": 4,
   "metadata": {},
   "outputs": [
    {
     "name": "stdout",
     "output_type": "stream",
     "text": [
      "Hello YASH\n"
     ]
    }
   ],
   "source": [
    "def greet():\n",
    "    return 'Hello'\n",
    "\n",
    "print(greet(), 'YASH')"
   ]
  }
 ],
 "metadata": {
  "kernelspec": {
   "display_name": "base",
   "language": "python",
   "name": "python3"
  },
  "language_info": {
   "codemirror_mode": {
    "name": "ipython",
    "version": 3
   },
   "file_extension": ".py",
   "mimetype": "text/x-python",
   "name": "python",
   "nbconvert_exporter": "python",
   "pygments_lexer": "ipython3",
   "version": "3.12.4"
  }
 },
 "nbformat": 4,
 "nbformat_minor": 2
}
