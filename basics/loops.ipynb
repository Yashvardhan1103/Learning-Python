{
 "cells": [
  {
   "cell_type": "markdown",
   "metadata": {},
   "source": [
    "while loop"
   ]
  },
  {
   "cell_type": "code",
   "execution_count": null,
   "metadata": {},
   "outputs": [],
   "source": [
    "n=5 #iteration variable - needs to go through some change in order for the loop to end at some point\n",
    "while n>0:\n",
    "    print(n)\n",
    "    n=n-1\n",
    "print('Blastoff!')"
   ]
  },
  {
   "cell_type": "markdown",
   "metadata": {},
   "source": [
    "break statement"
   ]
  },
  {
   "cell_type": "code",
   "execution_count": null,
   "metadata": {},
   "outputs": [],
   "source": [
    "while True:\n",
    "    line = input('> ')\n",
    "    if (line == 'done'):\n",
    "        break\n",
    "    else:\n",
    "        print(line)\n",
    "print('out of loop')\n",
    "#continue statement - skips to the top of the loop again, doesn't get out"
   ]
  },
  {
   "cell_type": "markdown",
   "metadata": {},
   "source": [
    "for loop"
   ]
  },
  {
   "cell_type": "code",
   "execution_count": null,
   "metadata": {},
   "outputs": [],
   "source": [
    "for i in [5, 4, 3, 2, 1]:\n",
    "    print(i)\n",
    "print('Blastoff!')"
   ]
  },
  {
   "cell_type": "markdown",
   "metadata": {},
   "source": [
    "for loop (non integer list)"
   ]
  },
  {
   "cell_type": "code",
   "execution_count": null,
   "metadata": {},
   "outputs": [],
   "source": [
    "friends = ['Joseph', 'Sally']\n",
    "for friend in friends:\n",
    "    print('Hello', friend)\n",
    "print('Done!')"
   ]
  },
  {
   "cell_type": "markdown",
   "metadata": {},
   "source": [
    "finding the largest value"
   ]
  },
  {
   "cell_type": "code",
   "execution_count": null,
   "metadata": {},
   "outputs": [],
   "source": [
    "largest_so_far = -1 #flag value\n",
    "for i in [3, 41, 12, 9, 74, 15]:\n",
    "    if (i > largest_so_far):\n",
    "        largest_so_far = i\n",
    "    print(largest_so_far, i)\n",
    "print('Largest number is', largest_so_far)"
   ]
  },
  {
   "cell_type": "markdown",
   "metadata": {},
   "source": [
    "counting elements using for loop"
   ]
  },
  {
   "cell_type": "code",
   "execution_count": null,
   "metadata": {},
   "outputs": [],
   "source": [
    "count = 0\n",
    "print('Before:', count)\n",
    "for i in [3, 7, 13, 28, 40]:\n",
    "    count = count + 1\n",
    "    print(count, i)\n",
    "print('No. of elements:', count)"
   ]
  },
  {
   "cell_type": "markdown",
   "metadata": {},
   "source": [
    "summing elements using for loop"
   ]
  },
  {
   "cell_type": "code",
   "execution_count": null,
   "metadata": {},
   "outputs": [],
   "source": [
    "count = 0\n",
    "print('Before:', count)\n",
    "for i in [3, 7, 13, 28, 40]:\n",
    "    count = count + i\n",
    "    print(count, i)\n",
    "print('Sum of elements:', count)"
   ]
  },
  {
   "cell_type": "markdown",
   "metadata": {},
   "source": [
    "average of elements using for loop"
   ]
  },
  {
   "cell_type": "code",
   "execution_count": null,
   "metadata": {},
   "outputs": [],
   "source": [
    "count = 0\n",
    "sum = 0\n",
    "print ('Before:', count, sum)\n",
    "for i in [3, 7, 13, 28, 40]:\n",
    "    count = count + 1\n",
    "    sum = sum + i\n",
    "    avg = sum/count\n",
    "    print(count, sum, avg)\n",
    "print('Average of elements is: ', avg)"
   ]
  },
  {
   "cell_type": "markdown",
   "metadata": {},
   "source": [
    "large if greater than 20 - for loop"
   ]
  },
  {
   "cell_type": "code",
   "execution_count": null,
   "metadata": {},
   "outputs": [],
   "source": [
    "arr = [13, 27, 5, 67, 18, 36, 40, 21, 20]\n",
    "l_count = 0\n",
    "s_count = 0\n",
    "for i in arr:\n",
    "    if (i>20):\n",
    "        print(i, 'Large number')\n",
    "        l_count = l_count + 1\n",
    "    elif (i==20):\n",
    "        print(i, 'Twenty')\n",
    "    else:\n",
    "        print(i, 'Small number')\n",
    "        s_count = s_count + 1\n",
    "print('Number of large numbers:', l_count)\n",
    "print('Number of small numbers:', s_count)"
   ]
  },
  {
   "cell_type": "markdown",
   "metadata": {},
   "source": [
    "boolean variable - takes value of either true or false (whether value is found or not)"
   ]
  },
  {
   "cell_type": "code",
   "execution_count": null,
   "metadata": {},
   "outputs": [],
   "source": [
    "found = False\n",
    "arr = [2, 4, 6, 8, 10]\n",
    "for i in arr:\n",
    "    if (i == 4):\n",
    "        found = True\n",
    "        break\n",
    "    print(i, found)\n",
    "print('value was in the loop:', found)"
   ]
  },
  {
   "cell_type": "markdown",
   "metadata": {},
   "source": [
    "smallest value (None is a constant that means 'nothing')"
   ]
  },
  {
   "cell_type": "code",
   "execution_count": null,
   "metadata": {},
   "outputs": [],
   "source": [
    "arr = [9, 41, 12, 3, 74, 15]\n",
    "smallest = None #flag value\n",
    "for i in arr:\n",
    "    if (smallest is None):\n",
    "        smallest = i\n",
    "    elif (i < smallest):\n",
    "        smallest = i\n",
    "    print(i, smallest)\n",
    "print('Smallest value is:', smallest)"
   ]
  }
 ],
 "metadata": {
  "language_info": {
   "name": "python"
  }
 },
 "nbformat": 4,
 "nbformat_minor": 2
}
