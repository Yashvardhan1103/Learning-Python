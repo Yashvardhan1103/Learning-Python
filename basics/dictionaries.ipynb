{
 "cells": [
  {
   "cell_type": "markdown",
   "metadata": {},
   "source": [
    "lookup using 'tag' or 'key"
   ]
  },
  {
   "cell_type": "code",
   "execution_count": 1,
   "metadata": {},
   "outputs": [
    {
     "name": "stdout",
     "output_type": "stream",
     "text": [
      "13\n",
      "{'summer': 3, 'fall': 15, 'spring': 75}\n"
     ]
    }
   ],
   "source": [
    "cabinet = dict()\n",
    "cabinet['summer'] = 3 \n",
    "cabinet['fall'] = 13\n",
    "cabinet['spring'] = 75\n",
    "# summer, fall and spring are the keys\n",
    "print(cabinet['fall'])\n",
    "cabinet['fall'] = cabinet['fall'] + 2\n",
    "print(cabinet)"
   ]
  },
  {
   "cell_type": "markdown",
   "metadata": {},
   "source": [
    "dictionary can be declared use {} braces and have a list of key:value pairs"
   ]
  },
  {
   "cell_type": "code",
   "execution_count": 2,
   "metadata": {},
   "outputs": [
    {
     "name": "stdout",
     "output_type": "stream",
     "text": [
      "{'yash': 2, 'rahul': 3, 'ramesh': 7}\n"
     ]
    }
   ],
   "source": [
    "dict1 = {'yash' : 2, 'rahul' : 3, 'ramesh' : 4}\n",
    "dict1['ramesh'] = dict1['ramesh'] + 3\n",
    "print(dict1)"
   ]
  },
  {
   "cell_type": "markdown",
   "metadata": {},
   "source": [
    "count how many times each number appears in a sequence"
   ]
  },
  {
   "cell_type": "code",
   "execution_count": 3,
   "metadata": {},
   "outputs": [
    {
     "name": "stdout",
     "output_type": "stream",
     "text": [
      "{2: 2, 4: 3, 1: 2, 6: 2, 7: 1, 8: 1}\n"
     ]
    }
   ],
   "source": [
    "n = [2, 4, 1, 2, 1, 6, 4, 7, 8, 6, 4]\n",
    "dict3 = dict()\n",
    "for i in n:\n",
    "    if not i in dict3:\n",
    "        dict3[i] = 1\n",
    "    else:\n",
    "        dict3[i] = dict3[i] + 1\n",
    "print(dict3)"
   ]
  },
  {
   "cell_type": "markdown",
   "metadata": {},
   "source": [
    "using get() function"
   ]
  },
  {
   "cell_type": "code",
   "execution_count": 4,
   "metadata": {},
   "outputs": [
    {
     "name": "stdout",
     "output_type": "stream",
     "text": [
      "{2: 2, 4: 3, 1: 2, 6: 2, 7: 1, 8: 1}\n"
     ]
    }
   ],
   "source": [
    "dict4 = dict()\n",
    "for i in n:\n",
    "    dict4[i] = dict4.get(i, 0) + 1\n",
    "print(dict4)"
   ]
  },
  {
   "cell_type": "markdown",
   "metadata": {},
   "source": [
    "COUNTING USING DICTIONARIES"
   ]
  },
  {
   "cell_type": "code",
   "execution_count": 5,
   "metadata": {},
   "outputs": [
    {
     "name": "stdout",
     "output_type": "stream",
     "text": [
      "{'I': 1, 'am': 1, 'Yashvardhan': 2, 'Sharma.': 2, 'My': 1, 'name': 1, 'is': 1}\n"
     ]
    }
   ],
   "source": [
    "text = input('Enter the text: ')\n",
    "words = text.split()\n",
    "dict5 = dict()\n",
    "for i in words:\n",
    "    dict5[i] = dict5.get(i, 0) + 1\n",
    "print(dict5)"
   ]
  },
  {
   "cell_type": "markdown",
   "metadata": {},
   "source": [
    "looping through dictionaries"
   ]
  },
  {
   "cell_type": "code",
   "execution_count": 6,
   "metadata": {},
   "outputs": [
    {
     "name": "stdout",
     "output_type": "stream",
     "text": [
      "I 1\n",
      "am 1\n",
      "Yashvardhan 2\n",
      "Sharma. 2\n",
      "My 1\n",
      "name 1\n",
      "is 1\n"
     ]
    }
   ],
   "source": [
    "for j in dict5:\n",
    "    print(j, dict5[j]) "
   ]
  },
  {
   "cell_type": "markdown",
   "metadata": {},
   "source": [
    "mapping dictionaries onto lists"
   ]
  },
  {
   "cell_type": "code",
   "execution_count": 7,
   "metadata": {},
   "outputs": [
    {
     "name": "stdout",
     "output_type": "stream",
     "text": [
      "['jan', 'feb', 'apr']\n",
      "['jan', 'feb', 'apr']\n",
      "[31, 28, 30]\n",
      "[('jan', 31), ('feb', 28), ('apr', 30)]\n",
      "apr 30\n",
      "feb 28\n",
      "jan 31\n"
     ]
    }
   ],
   "source": [
    "dict6 = {'jan' : 31, 'feb' : 28, 'apr' : 30}\n",
    "print(list(dict6)) # prints out the keys in a list\n",
    "print(list(dict6.keys())) # prints keys, again\n",
    "print(list(dict6.values())) # print values\n",
    "print(list(dict6.items())) # prints both in a tuple\n",
    "for i, j in sorted(dict6.items()): # sorted in key order\n",
    "    print(i, j) # loops through the items tuple using two iteration variables"
   ]
  },
  {
   "cell_type": "code",
   "execution_count": 8,
   "metadata": {},
   "outputs": [
    {
     "name": "stdout",
     "output_type": "stream",
     "text": [
      "[(31, 'jan'), (28, 'feb'), (30, 'apr')]\n",
      "[(28, 'feb'), (30, 'apr'), (31, 'jan')]\n"
     ]
    }
   ],
   "source": [
    "lst = list()\n",
    "for k, l in dict6.items():\n",
    "    lst.append((l, k))\n",
    "print(lst)\n",
    "lst = sorted(lst)\n",
    "print(lst)"
   ]
  }
 ],
 "metadata": {
  "kernelspec": {
   "display_name": "base",
   "language": "python",
   "name": "python3"
  },
  "language_info": {
   "codemirror_mode": {
    "name": "ipython",
    "version": 3
   },
   "file_extension": ".py",
   "mimetype": "text/x-python",
   "name": "python",
   "nbconvert_exporter": "python",
   "pygments_lexer": "ipython3",
   "version": "3.12.4"
  }
 },
 "nbformat": 4,
 "nbformat_minor": 2
}
