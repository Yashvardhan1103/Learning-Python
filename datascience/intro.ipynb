{
 "cells": [
  {
   "cell_type": "code",
   "execution_count": 1,
   "metadata": {},
   "outputs": [
    {
     "name": "stdout",
     "output_type": "stream",
     "text": [
      "2\n"
     ]
    }
   ],
   "source": [
    "x = 1\n",
    "y = 1\n",
    "print(x + y)"
   ]
  },
  {
   "cell_type": "code",
   "execution_count": 2,
   "metadata": {},
   "outputs": [
    {
     "name": "stdout",
     "output_type": "stream",
     "text": [
      "2\n"
     ]
    }
   ],
   "source": [
    "def add(n1, n2):\n",
    "    return(n1 + n2)\n",
    "\n",
    "print(add(x, y))"
   ]
  },
  {
   "cell_type": "code",
   "execution_count": 5,
   "metadata": {},
   "outputs": [
    {
     "name": "stdout",
     "output_type": "stream",
     "text": [
      "4\n",
      "14\n"
     ]
    }
   ],
   "source": [
    "def addnumber(a, b, c = None): # optional parameter ( = None )\n",
    "    if (c == None):\n",
    "        return a + b\n",
    "    else:\n",
    "        return (a + b + c)\n",
    "\n",
    "print(addnumber(1, 3))\n",
    "print(addnumber(2, 5, 7))"
   ]
  },
  {
   "cell_type": "code",
   "execution_count": 6,
   "metadata": {},
   "outputs": [
    {
     "name": "stdout",
     "output_type": "stream",
     "text": [
      "9\n"
     ]
    }
   ],
   "source": [
    "def addno(n1, n2):\n",
    "    return n1 + n2\n",
    "\n",
    "a = addno\n",
    "print(a(3, 6))"
   ]
  },
  {
   "cell_type": "code",
   "execution_count": 12,
   "metadata": {},
   "outputs": [
    {
     "data": {
      "text/plain": [
       "tuple"
      ]
     },
     "execution_count": 12,
     "metadata": {},
     "output_type": "execute_result"
    }
   ],
   "source": [
    "x = (1, 'y')\n",
    "type(x)"
   ]
  },
  {
   "cell_type": "code",
   "execution_count": 11,
   "metadata": {},
   "outputs": [
    {
     "data": {
      "text/plain": [
       "list"
      ]
     },
     "execution_count": 11,
     "metadata": {},
     "output_type": "execute_result"
    }
   ],
   "source": [
    "y = [1, 'y']\n",
    "type(y)"
   ]
  },
  {
   "cell_type": "code",
   "execution_count": 14,
   "metadata": {},
   "outputs": [
    {
     "name": "stdout",
     "output_type": "stream",
     "text": [
      "b\n"
     ]
    }
   ],
   "source": [
    "z = {1 : 'a', 2 : 'b'}\n",
    "print(z[2])"
   ]
  },
  {
   "cell_type": "markdown",
   "metadata": {},
   "source": [
    "STRING FORMATTING"
   ]
  },
  {
   "cell_type": "code",
   "execution_count": 2,
   "metadata": {},
   "outputs": [
    {
     "name": "stdout",
     "output_type": "stream",
     "text": [
      "Yash is a level 2 hockey player\n",
      "aryan is a level 3 cricket player and a level 4 football player\n",
      "rohan is a level 5 cricket player and a level 3 football player\n"
     ]
    }
   ],
   "source": [
    "string = '{} is a level {} hockey player' # PLACEHOLDER IS IN {} BRACKETS\n",
    "hockey = {'name' : 'Yash', 'level' : 2}\n",
    "print(string.format(hockey['name'],\n",
    "                    hockey['level']))\n",
    "\n",
    "string2 = '{} is a level {} cricket player and a level {} football player'\n",
    "p1 = {'name' : 'aryan',\n",
    "         'cricketlvl' : '3',\n",
    "         'footballlvl' : '4'}\n",
    "p2 = {'name' : 'rohan',\n",
    "      'cricketlvl' : '5',\n",
    "      'footballlvl' : '3'}\n",
    "print(string2.format(p1['name'],\n",
    "                     p1['cricketlvl'],\n",
    "                     p1['footballlvl']))\n",
    "print(string2.format(p2['name'],\n",
    "                     p2['cricketlvl'],\n",
    "                     p2['footballlvl']))\n"
   ]
  }
 ],
 "metadata": {
  "kernelspec": {
   "display_name": "base",
   "language": "python",
   "name": "python3"
  },
  "language_info": {
   "codemirror_mode": {
    "name": "ipython",
    "version": 3
   },
   "file_extension": ".py",
   "mimetype": "text/x-python",
   "name": "python",
   "nbconvert_exporter": "python",
   "pygments_lexer": "ipython3",
   "version": "3.12.4"
  }
 },
 "nbformat": 4,
 "nbformat_minor": 2
}
