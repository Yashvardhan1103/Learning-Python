{
 "cells": [
  {
   "cell_type": "code",
   "execution_count": 8,
   "metadata": {},
   "outputs": [
    {
     "name": "stdout",
     "output_type": "stream",
     "text": [
      "[11, 13, 43, 10, 32, 30]\n"
     ]
    }
   ],
   "source": [
    "# example\n",
    "list1 = [11, 23, 43, 21, 32, 70]\n",
    "list2 = [12, 13, 53, 10, 51, 30]\n",
    "\n",
    "minimum = map(min, list1, list2)\n",
    "\n",
    "lst = []\n",
    "for i in minimum:\n",
    "    lst.append(i)\n",
    "print(lst)\n"
   ]
  }
 ],
 "metadata": {
  "kernelspec": {
   "display_name": "base",
   "language": "python",
   "name": "python3"
  },
  "language_info": {
   "codemirror_mode": {
    "name": "ipython",
    "version": 3
   },
   "file_extension": ".py",
   "mimetype": "text/x-python",
   "name": "python",
   "nbconvert_exporter": "python",
   "pygments_lexer": "ipython3",
   "version": "3.12.4"
  }
 },
 "nbformat": 4,
 "nbformat_minor": 2
}
