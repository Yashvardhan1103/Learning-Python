{
 "cells": [
  {
   "cell_type": "code",
   "execution_count": 2,
   "metadata": {},
   "outputs": [
    {
     "data": {
      "text/plain": [
       "[{'': '1',\n",
       "  'manufacturer': 'audi',\n",
       "  'model': 'a4',\n",
       "  'displ': '1.8',\n",
       "  'year': '1999',\n",
       "  'cyl': '4',\n",
       "  'trans': 'auto(l5)',\n",
       "  'drv': 'f',\n",
       "  'cty': '18',\n",
       "  'hwy': '29',\n",
       "  'fl': 'p',\n",
       "  'class': 'compact'},\n",
       " {'': '2',\n",
       "  'manufacturer': 'audi',\n",
       "  'model': 'a4',\n",
       "  'displ': '1.8',\n",
       "  'year': '1999',\n",
       "  'cyl': '4',\n",
       "  'trans': 'manual(m5)',\n",
       "  'drv': 'f',\n",
       "  'cty': '21',\n",
       "  'hwy': '29',\n",
       "  'fl': 'p',\n",
       "  'class': 'compact'},\n",
       " {'': '3',\n",
       "  'manufacturer': 'audi',\n",
       "  'model': 'a4',\n",
       "  'displ': '2',\n",
       "  'year': '2008',\n",
       "  'cyl': '4',\n",
       "  'trans': 'manual(m6)',\n",
       "  'drv': 'f',\n",
       "  'cty': '20',\n",
       "  'hwy': '31',\n",
       "  'fl': 'p',\n",
       "  'class': 'compact'}]"
      ]
     },
     "execution_count": 2,
     "metadata": {},
     "output_type": "execute_result"
    }
   ],
   "source": [
    "import csv\n",
    "\n",
    "%precision 2\n",
    "\n",
    "with open('mpg.csv') as csvfile:\n",
    "    mpg = list(csv.DictReader(csvfile)) # convert mpg into a list of dictionaries\n",
    "\n",
    "mpg[:3] # first three dictionaries"
   ]
  },
  {
   "cell_type": "code",
   "execution_count": 3,
   "metadata": {},
   "outputs": [
    {
     "name": "stdout",
     "output_type": "stream",
     "text": [
      "234\n"
     ]
    }
   ],
   "source": [
    "print(len(mpg))"
   ]
  },
  {
   "cell_type": "code",
   "execution_count": 4,
   "metadata": {},
   "outputs": [
    {
     "data": {
      "text/plain": [
       "dict_keys(['', 'manufacturer', 'model', 'displ', 'year', 'cyl', 'trans', 'drv', 'cty', 'hwy', 'fl', 'class'])"
      ]
     },
     "execution_count": 4,
     "metadata": {},
     "output_type": "execute_result"
    }
   ],
   "source": [
    "mpg[0].keys()"
   ]
  },
  {
   "cell_type": "code",
   "execution_count": 17,
   "metadata": {},
   "outputs": [
    {
     "name": "stdout",
     "output_type": "stream",
     "text": [
      "6.0\n"
     ]
    }
   ],
   "source": [
    "for i in mpg:\n",
    "    total = 0\n",
    "    count = 0\n",
    "    for j in i:\n",
    "        total += int(i['cyl'])\n",
    "        count += 1\n",
    "print(total / count)\n"
   ]
  },
  {
   "cell_type": "code",
   "execution_count": 29,
   "metadata": {},
   "outputs": [
    {
     "name": "stdout",
     "output_type": "stream",
     "text": [
      "16.858974358974358\n"
     ]
    }
   ],
   "source": [
    "# avg city mpg\n",
    "total = 0\n",
    "for i in mpg:\n",
    "    total += float(i['cty'])\n",
    "print(total / len(mpg))"
   ]
  },
  {
   "cell_type": "code",
   "execution_count": 31,
   "metadata": {},
   "outputs": [
    {
     "name": "stdout",
     "output_type": "stream",
     "text": [
      "23.44017094017094\n"
     ]
    }
   ],
   "source": [
    "# avg hwy mpg\n",
    "total = 0\n",
    "for i in mpg:\n",
    "    total += float(i['hwy'])\n",
    "print(total / len(mpg))"
   ]
  },
  {
   "cell_type": "code",
   "execution_count": 38,
   "metadata": {},
   "outputs": [
    {
     "name": "stdout",
     "output_type": "stream",
     "text": [
      "{'5', '8', '4', '6'}\n"
     ]
    }
   ],
   "source": [
    "# avg city mpg by no. of cylinders\n",
    "cylinders = set(i['cyl'] for i in mpg)\n",
    "print(cylinders)"
   ]
  },
  {
   "cell_type": "code",
   "execution_count": 43,
   "metadata": {},
   "outputs": [
    {
     "name": "stdout",
     "output_type": "stream",
     "text": [
      "[('4', 21.012345679012345), ('5', 20.5), ('6', 16.21518987341772), ('8', 12.571428571428571)]\n"
     ]
    }
   ],
   "source": [
    "# continued\n",
    "ctympgbycyl = []\n",
    "for j in cylinders:\n",
    "    total = 0\n",
    "    count = 0\n",
    "    for k in mpg:\n",
    "        if k['cyl'] == j:\n",
    "            count += 1\n",
    "            total += float(k['cty'])\n",
    "            avg = total / count\n",
    "    ctympgbycyl.append((j, avg))\n",
    "print(sorted(ctympgbycyl))"
   ]
  },
  {
   "cell_type": "code",
   "execution_count": 46,
   "metadata": {},
   "outputs": [
    {
     "name": "stdout",
     "output_type": "stream",
     "text": [
      "[('minivan', 22.363636363636363), ('midsize', 27.29268292682927), ('compact', 28.29787234042553), ('subcompact', 28.142857142857142), ('2seater', 24.8), ('pickup', 16.87878787878788), ('suv', 18.129032258064516)]\n"
     ]
    }
   ],
   "source": [
    "# avg hwy mpg for different classes\n",
    "classes = set(d['class'] for d in mpg)\n",
    "avghwympgbyclass = []\n",
    "for i in classes: # iterate over all vehicle classes\n",
    "    total = 0\n",
    "    count = 0\n",
    "    for j in mpg: # iterate over all dictionaries\n",
    "        if j['class'] == i:\n",
    "            total += float(j['hwy'])\n",
    "            count += 1\n",
    "            avg = total / count\n",
    "    avghwympgbyclass.append((i, avg))\n",
    "print(avghwympgbyclass)"
   ]
  },
  {
   "cell_type": "markdown",
   "metadata": {},
   "source": [
    "thus, we have learned about interpreting csv files and performing claculations on them using loops and conditionals"
   ]
  }
 ],
 "metadata": {
  "kernelspec": {
   "display_name": "base",
   "language": "python",
   "name": "python3"
  },
  "language_info": {
   "codemirror_mode": {
    "name": "ipython",
    "version": 3
   },
   "file_extension": ".py",
   "mimetype": "text/x-python",
   "name": "python",
   "nbconvert_exporter": "python",
   "pygments_lexer": "ipython3",
   "version": "3.12.4"
  }
 },
 "nbformat": 4,
 "nbformat_minor": 2
}
